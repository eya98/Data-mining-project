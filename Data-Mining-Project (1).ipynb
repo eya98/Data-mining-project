{
 "cells": [
  {
   "cell_type": "code",
   "execution_count": 1,
   "id": "54fd4903",
   "metadata": {},
   "outputs": [],
   "source": [
    "import pandas as pd\n",
    "import numpy as np \n",
    "import matplotlib.pyplot as plt\n"
   ]
  },
  {
   "cell_type": "code",
   "execution_count": 2,
   "id": "05c9d306",
   "metadata": {},
   "outputs": [
    {
     "data": {
      "text/html": [
       "<div>\n",
       "<style scoped>\n",
       "    .dataframe tbody tr th:only-of-type {\n",
       "        vertical-align: middle;\n",
       "    }\n",
       "\n",
       "    .dataframe tbody tr th {\n",
       "        vertical-align: top;\n",
       "    }\n",
       "\n",
       "    .dataframe thead th {\n",
       "        text-align: right;\n",
       "    }\n",
       "</style>\n",
       "<table border=\"1\" class=\"dataframe\">\n",
       "  <thead>\n",
       "    <tr style=\"text-align: right;\">\n",
       "      <th></th>\n",
       "      <th>age</th>\n",
       "      <th>anaemia</th>\n",
       "      <th>creatinine_phosphokinase</th>\n",
       "      <th>diabetes</th>\n",
       "      <th>ejection_fraction</th>\n",
       "      <th>high_blood_pressure</th>\n",
       "      <th>platelets</th>\n",
       "      <th>serum_creatinine</th>\n",
       "      <th>serum_sodium</th>\n",
       "      <th>sex</th>\n",
       "      <th>smoking</th>\n",
       "      <th>time</th>\n",
       "      <th>DEATH_EVENT</th>\n",
       "    </tr>\n",
       "  </thead>\n",
       "  <tbody>\n",
       "    <tr>\n",
       "      <th>0</th>\n",
       "      <td>75.0</td>\n",
       "      <td>0</td>\n",
       "      <td>582</td>\n",
       "      <td>0</td>\n",
       "      <td>20</td>\n",
       "      <td>1</td>\n",
       "      <td>265000.00</td>\n",
       "      <td>1.9</td>\n",
       "      <td>130</td>\n",
       "      <td>1</td>\n",
       "      <td>0</td>\n",
       "      <td>4</td>\n",
       "      <td>1</td>\n",
       "    </tr>\n",
       "    <tr>\n",
       "      <th>1</th>\n",
       "      <td>55.0</td>\n",
       "      <td>0</td>\n",
       "      <td>7861</td>\n",
       "      <td>0</td>\n",
       "      <td>38</td>\n",
       "      <td>0</td>\n",
       "      <td>263358.03</td>\n",
       "      <td>1.1</td>\n",
       "      <td>136</td>\n",
       "      <td>1</td>\n",
       "      <td>0</td>\n",
       "      <td>6</td>\n",
       "      <td>1</td>\n",
       "    </tr>\n",
       "    <tr>\n",
       "      <th>2</th>\n",
       "      <td>65.0</td>\n",
       "      <td>0</td>\n",
       "      <td>146</td>\n",
       "      <td>0</td>\n",
       "      <td>20</td>\n",
       "      <td>0</td>\n",
       "      <td>162000.00</td>\n",
       "      <td>1.3</td>\n",
       "      <td>129</td>\n",
       "      <td>1</td>\n",
       "      <td>1</td>\n",
       "      <td>7</td>\n",
       "      <td>1</td>\n",
       "    </tr>\n",
       "    <tr>\n",
       "      <th>3</th>\n",
       "      <td>50.0</td>\n",
       "      <td>1</td>\n",
       "      <td>111</td>\n",
       "      <td>0</td>\n",
       "      <td>20</td>\n",
       "      <td>0</td>\n",
       "      <td>210000.00</td>\n",
       "      <td>1.9</td>\n",
       "      <td>137</td>\n",
       "      <td>1</td>\n",
       "      <td>0</td>\n",
       "      <td>7</td>\n",
       "      <td>1</td>\n",
       "    </tr>\n",
       "    <tr>\n",
       "      <th>4</th>\n",
       "      <td>65.0</td>\n",
       "      <td>1</td>\n",
       "      <td>160</td>\n",
       "      <td>1</td>\n",
       "      <td>20</td>\n",
       "      <td>0</td>\n",
       "      <td>327000.00</td>\n",
       "      <td>2.7</td>\n",
       "      <td>116</td>\n",
       "      <td>0</td>\n",
       "      <td>0</td>\n",
       "      <td>8</td>\n",
       "      <td>1</td>\n",
       "    </tr>\n",
       "  </tbody>\n",
       "</table>\n",
       "</div>"
      ],
      "text/plain": [
       "    age  anaemia  creatinine_phosphokinase  diabetes  ejection_fraction  \\\n",
       "0  75.0        0                       582         0                 20   \n",
       "1  55.0        0                      7861         0                 38   \n",
       "2  65.0        0                       146         0                 20   \n",
       "3  50.0        1                       111         0                 20   \n",
       "4  65.0        1                       160         1                 20   \n",
       "\n",
       "   high_blood_pressure  platelets  serum_creatinine  serum_sodium  sex  \\\n",
       "0                    1  265000.00               1.9           130    1   \n",
       "1                    0  263358.03               1.1           136    1   \n",
       "2                    0  162000.00               1.3           129    1   \n",
       "3                    0  210000.00               1.9           137    1   \n",
       "4                    0  327000.00               2.7           116    0   \n",
       "\n",
       "   smoking  time  DEATH_EVENT  \n",
       "0        0     4            1  \n",
       "1        0     6            1  \n",
       "2        1     7            1  \n",
       "3        0     7            1  \n",
       "4        0     8            1  "
      ]
     },
     "execution_count": 2,
     "metadata": {},
     "output_type": "execute_result"
    }
   ],
   "source": [
    "data = pd.read_csv(\"C:/Users/Administrator/Desktop/Data Mining/heart_failure_clinical_records_dataset.csv\")\n",
    "data.head()"
   ]
  },
  {
   "cell_type": "code",
   "execution_count": 3,
   "id": "0b2c3db7",
   "metadata": {},
   "outputs": [
    {
     "data": {
      "image/png": "[encoded data removed]",
      "text/plain": [
       "<Figure size 864x576 with 1 Axes>"
      ]
     },
     "metadata": {
      "needs_background": "light"
     },
     "output_type": "display_data"
    }
   ],
   "source": [
    "data.head()\n",
    "\n",
    "def counter(data):\n",
    "    death = list(data['DEATH_EVENT'])\n",
    "    death_count =[death.count(0), death.count(1)]\n",
    "    plt.figure(figsize=(12, 8))\n",
    "    plt.bar(x= ['Alive: '+str(death_count[0]),'Dead: '+str(death_count[1])], height = death_count)\n",
    "    plt.title(\"Data distribution\")\n",
    "    plt.show()\n",
    "                        \n",
    "counter(data)"
   ]
  },
  {
   "cell_type": "markdown",
   "id": "069603ab",
   "metadata": {},
   "source": [
    "# ML Algorithms"
   ]
  },
  {
   "cell_type": "code",
   "execution_count": 4,
   "id": "91c13996",
   "metadata": {},
   "outputs": [],
   "source": [
    "from sklearn.linear_model import LogisticRegression\n",
    "from sklearn.svm import SVC\n",
    "from sklearn.neighbors import KNeighborsClassifier\n",
    "from sklearn.tree import DecisionTreeClassifier\n",
    "from sklearn.naive_bayes import GaussianNB\n",
    "from sklearn.ensemble import RandomForestClassifier\n",
    "\n",
    "from sklearn.model_selection import train_test_split\n",
    "from sklearn.preprocessing import StandardScaler \n",
    "from sklearn.metrics import accuracy_score"
   ]
  },
  {
   "cell_type": "code",
   "execution_count": 5,
   "id": "9abb660b",
   "metadata": {},
   "outputs": [],
   "source": [
    "x = data[[\"age\",\"creatinine_phosphokinase\",\"ejection_fraction\",\"serum_creatinine\",\"serum_sodium\",\"time\"]]\n",
    "y = data[\"DEATH_EVENT\"]\n",
    "\n",
    "x_train, x_test, y_train, y_test = train_test_split(x, y, test_size=0.3, random_state=2)\n",
    "# Data scaling\n",
    "scaler = StandardScaler()\n",
    "x_train_scaled = scaler.fit_transform(x_train)\n",
    "x_test_scaled = scaler.transform(x_test)"
   ]
  },
  {
   "cell_type": "code",
   "execution_count": 6,
   "id": "cdcf03a1",
   "metadata": {},
   "outputs": [],
   "source": [
    "# Logisitic Regression\n",
    "def Logistic_Regression(x_train_scaled, y_train):\n",
    "    lr_model = LogisticRegression()\n",
    "    lr_model.fit(x_train_scaled, y_train)\n",
    "    lr_prediction = lr_model.predict(x_test_scaled)\n",
    "    lr_accuracy = (round(accuracy_score(lr_prediction, y_test), 4) * 100) #percentage\n",
    "    lr_accuracy_list = []\n",
    "    lr_accuracy_list.append(lr_accuracy)\n",
    "    print(\"Logistic Regression Model accuracy \"+str(lr_accuracy_list[0])+\"%\")\n",
    "    return lr_accuracy_list[0]"
   ]
  },
  {
   "cell_type": "code",
   "execution_count": 7,
   "id": "2f115972",
   "metadata": {},
   "outputs": [],
   "source": [
    "# SVM \n",
    "def SVM(x_train_scaled, y_train):\n",
    "    svc_model = SVC()\n",
    "    svc_model.fit(x_train_scaled, y_train)\n",
    "    svc_prediction = svc_model.predict(x_test_scaled)\n",
    "    svc_accuracy = (round(accuracy_score(svc_prediction, y_test), 4) * 100) #percentage\n",
    "    svm_accuracy_list=[]\n",
    "    svm_accuracy_list.append(svc_accuracy)\n",
    "    print(\"SVM Model accuracy \"+str(svm_accuracy_list[0])+\"%\")\n",
    "    return svm_accuracy_list[0]"
   ]
  },
  {
   "cell_type": "code",
   "execution_count": 8,
   "id": "bfcc9ea4",
   "metadata": {},
   "outputs": [],
   "source": [
    "# We use this program to find the optimal value of k\n",
    "def KNNs(x_train_scaled, y_train):\n",
    "    knn_list = []\n",
    "    for k in range(1,50):\n",
    "        knn_model = KNeighborsClassifier(n_neighbors=k)\n",
    "        knn_model.fit(x_train_scaled, y_train)\n",
    "        knn_prediction = knn_model.predict(x_test_scaled)\n",
    "        knn_accuracy = (round(accuracy_score(knn_prediction, y_test), 4) * 100)\n",
    "        knn_list.append(knn_accuracy)\n",
    "    k = np.arange(1,50)\n",
    "    if knn_list.index(max(knn_list))== 0:\n",
    "        neighbors = 2\n",
    "    else:\n",
    "        neighbors = knn_list.index(max(knn_list))\n",
    "    knn_model = KNeighborsClassifier(n_neighbors=neighbors)\n",
    "    knn_model.fit(x_train_scaled, y_train)\n",
    "    knn_prediction = knn_model.predict(x_test_scaled)\n",
    "    knn_accuracy = (round(accuracy_score(knn_prediction, y_test), 4) * 100) #percentage\n",
    "    kkn_accuracy_list=[]\n",
    "    kkn_accuracy_list.append(knn_accuracy)\n",
    "    print(\"KNNs Model accuracy \"+str(kkn_accuracy_list[0])+\"%\")\n",
    "    return kkn_accuracy_list[0]"
   ]
  },
  {
   "cell_type": "code",
   "execution_count": 9,
   "id": "30d5971a",
   "metadata": {},
   "outputs": [],
   "source": [
    "# Decion Tree\n",
    "def Decision_Tree(x_train_scaled, y_train):\n",
    "    dt_model = DecisionTreeClassifier(criterion=\"entropy\", max_depth=2)\n",
    "    dt_model.fit(x_train_scaled, y_train)\n",
    "    dt_prediction = dt_model.predict(x_test_scaled)\n",
    "    dt_accuracy = (round(accuracy_score(dt_prediction, y_test), 4) * 100) #percentage\n",
    "    dt_accuracy_list=[]\n",
    "    dt_accuracy_list.append(dt_accuracy)\n",
    "    print(\"Decision Tree Model accuracy \"+str(dt_accuracy_list[0])+\"%\")\n",
    "    return dt_accuracy_list[0]"
   ]
  },
  {
   "cell_type": "code",
   "execution_count": 10,
   "id": "50fa6f90",
   "metadata": {},
   "outputs": [],
   "source": [
    "# Naive Bayes\n",
    "def Naive_Bayes(x_train_scaled, y_train):\n",
    "    nb_model = GaussianNB()\n",
    "    nb_model.fit(x_train_scaled, y_train)\n",
    "    nb_prediction = nb_model.predict(x_test_scaled)\n",
    "    nb_accuracy = (round(accuracy_score(nb_prediction, y_test), 4) * 100) #percentage\n",
    "    nb_accuracy_list=[]\n",
    "    nb_accuracy_list.append(nb_accuracy)\n",
    "    print(\"Naive Bayes Model accuracy \"+str(nb_accuracy_list[0])+\"%\")\n",
    "    return nb_accuracy_list[0]"
   ]
  },
  {
   "cell_type": "code",
   "execution_count": 11,
   "id": "8b676dc8",
   "metadata": {},
   "outputs": [],
   "source": [
    "# Random Forrest\n",
    "def Random_Forrest(x_train_scaled, y_train):\n",
    "    rf_model = RandomForestClassifier()\n",
    "    rf_model.fit(x_train_scaled, y_train)\n",
    "    rf_prediction = rf_model.predict(x_test_scaled)\n",
    "    rf_accuracy = (round(accuracy_score(rf_prediction, y_test), 4) * 100) #percentage\n",
    "    rf_accuracy_list=[]\n",
    "    rf_accuracy_list.append(rf_accuracy)\n",
    "    print(\"Random Forrest Model accuracy \"+str(rf_accuracy_list[0])+\"%\")\n",
    "    return rf_accuracy_list[0]"
   ]
  },
  {
   "cell_type": "code",
   "execution_count": 12,
   "id": "86449537",
   "metadata": {},
   "outputs": [
    {
     "name": "stdout",
     "output_type": "stream",
     "text": [
      "Logistic Regression Model accuracy 87.78%\n",
      "SVM Model accuracy 84.44%\n",
      "KNNs Model accuracy 84.44%\n",
      "Decision Tree Model accuracy 88.89%\n",
      "Naive Bayes Model accuracy 82.22%\n",
      "Random Forrest Model accuracy 86.67%\n"
     ]
    },
    {
     "data": {
      "image/png": "[encoded data removed]",
      "text/plain": [
       "<Figure size 864x576 with 1 Axes>"
      ]
     },
     "metadata": {
      "needs_background": "light"
     },
     "output_type": "display_data"
    }
   ],
   "source": [
    "# Without SMOTE\n",
    "import seaborn as sns\n",
    "accuracies = [Logistic_Regression(x_train_scaled, y_train),SVM(x_train_scaled, y_train),KNNs(x_train_scaled, y_train),Decision_Tree(x_train_scaled, y_train),Naive_Bayes(x_train_scaled, y_train),Random_Forrest(x_train_scaled, y_train)]\n",
    "models = [\"Logistic Regression\",\"SVM\",\"KNNs\",\"Decision Tree\",\"Naive Bayes\",\"Random Forest\"]\n",
    "\n",
    "def accuracies_plot(models,accuracies, type_data):\n",
    "    plt.figure(figsize=(12, 8))\n",
    "    ax = sns.barplot(x=models, y=accuracies)\n",
    "    plt.xlabel(\"Classifiers\", fontsize=15)\n",
    "    plt.ylabel(\"Accuracy (%)\", fontsize=15)\n",
    "    plt.title(\"Accuracies: \"+ type_data, fontsize=25)\n",
    "    for p in ax.patches:\n",
    "        width = p.get_width()\n",
    "        height = p.get_height()\n",
    "        x = p.get_x()\n",
    "        y = p.get_y()\n",
    "        ax.annotate(f\"{height} %\", (x + width/2, y+ height*1.01), ha=\"center\")\n",
    "    plt.show()\n",
    "    \n",
    "accuracies_plot(models,accuracies, \"without any sampling\")"
   ]
  },
  {
   "cell_type": "code",
   "execution_count": 13,
   "id": "02d04d11",
   "metadata": {},
   "outputs": [],
   "source": [
    "# Splitting data according death outcome\n",
    "\n",
    "def split_data(data):\n",
    "    keys = list(data.keys())\n",
    "    dead_list=[]\n",
    "    alive_list=[]\n",
    "    for i in range(len(data['DEATH_EVENT'])):\n",
    "        if int(data.iloc[i]['DEATH_EVENT'])==1:\n",
    "            dead_list.append(list(data.iloc[i]))\n",
    "        else:\n",
    "            alive_list.append(list(data.iloc[i]))\n",
    "    alive_data=pd.DataFrame(alive_list, columns = keys)\n",
    "    dead_data=pd.DataFrame(dead_list, columns = keys)\n",
    "    return dead_data, alive_data\n",
    "            "
   ]
  },
  {
   "cell_type": "code",
   "execution_count": 16,
   "id": "2312b422",
   "metadata": {},
   "outputs": [],
   "source": [
    "dead_data, alive_data = split_data(data)"
   ]
  },
  {
   "cell_type": "code",
   "execution_count": 17,
   "id": "ab67b970",
   "metadata": {},
   "outputs": [
    {
     "data": {
      "text/html": [
       "<div>\n",
       "<style scoped>\n",
       "    .dataframe tbody tr th:only-of-type {\n",
       "        vertical-align: middle;\n",
       "    }\n",
       "\n",
       "    .dataframe tbody tr th {\n",
       "        vertical-align: top;\n",
       "    }\n",
       "\n",
       "    .dataframe thead th {\n",
       "        text-align: right;\n",
       "    }\n",
       "</style>\n",
       "<table border=\"1\" class=\"dataframe\">\n",
       "  <thead>\n",
       "    <tr style=\"text-align: right;\">\n",
       "      <th></th>\n",
       "      <th>age</th>\n",
       "      <th>anaemia</th>\n",
       "      <th>creatinine_phosphokinase</th>\n",
       "      <th>diabetes</th>\n",
       "      <th>ejection_fraction</th>\n",
       "      <th>high_blood_pressure</th>\n",
       "      <th>platelets</th>\n",
       "      <th>serum_creatinine</th>\n",
       "      <th>serum_sodium</th>\n",
       "      <th>sex</th>\n",
       "      <th>smoking</th>\n",
       "      <th>time</th>\n",
       "      <th>DEATH_EVENT</th>\n",
       "    </tr>\n",
       "  </thead>\n",
       "  <tbody>\n",
       "    <tr>\n",
       "      <th>0</th>\n",
       "      <td>49.0</td>\n",
       "      <td>1.0</td>\n",
       "      <td>80.0</td>\n",
       "      <td>0.0</td>\n",
       "      <td>30.0</td>\n",
       "      <td>1.0</td>\n",
       "      <td>427000.0</td>\n",
       "      <td>1.0</td>\n",
       "      <td>138.0</td>\n",
       "      <td>0.0</td>\n",
       "      <td>0.0</td>\n",
       "      <td>12.0</td>\n",
       "      <td>0.0</td>\n",
       "    </tr>\n",
       "    <tr>\n",
       "      <th>1</th>\n",
       "      <td>65.0</td>\n",
       "      <td>1.0</td>\n",
       "      <td>52.0</td>\n",
       "      <td>0.0</td>\n",
       "      <td>25.0</td>\n",
       "      <td>1.0</td>\n",
       "      <td>276000.0</td>\n",
       "      <td>1.3</td>\n",
       "      <td>137.0</td>\n",
       "      <td>0.0</td>\n",
       "      <td>0.0</td>\n",
       "      <td>16.0</td>\n",
       "      <td>0.0</td>\n",
       "    </tr>\n",
       "    <tr>\n",
       "      <th>2</th>\n",
       "      <td>53.0</td>\n",
       "      <td>0.0</td>\n",
       "      <td>63.0</td>\n",
       "      <td>1.0</td>\n",
       "      <td>60.0</td>\n",
       "      <td>0.0</td>\n",
       "      <td>368000.0</td>\n",
       "      <td>0.8</td>\n",
       "      <td>135.0</td>\n",
       "      <td>1.0</td>\n",
       "      <td>0.0</td>\n",
       "      <td>22.0</td>\n",
       "      <td>0.0</td>\n",
       "    </tr>\n",
       "    <tr>\n",
       "      <th>3</th>\n",
       "      <td>50.0</td>\n",
       "      <td>1.0</td>\n",
       "      <td>159.0</td>\n",
       "      <td>1.0</td>\n",
       "      <td>30.0</td>\n",
       "      <td>0.0</td>\n",
       "      <td>302000.0</td>\n",
       "      <td>1.2</td>\n",
       "      <td>138.0</td>\n",
       "      <td>0.0</td>\n",
       "      <td>0.0</td>\n",
       "      <td>29.0</td>\n",
       "      <td>0.0</td>\n",
       "    </tr>\n",
       "    <tr>\n",
       "      <th>4</th>\n",
       "      <td>60.0</td>\n",
       "      <td>0.0</td>\n",
       "      <td>2656.0</td>\n",
       "      <td>1.0</td>\n",
       "      <td>30.0</td>\n",
       "      <td>0.0</td>\n",
       "      <td>305000.0</td>\n",
       "      <td>2.3</td>\n",
       "      <td>137.0</td>\n",
       "      <td>1.0</td>\n",
       "      <td>0.0</td>\n",
       "      <td>30.0</td>\n",
       "      <td>0.0</td>\n",
       "    </tr>\n",
       "    <tr>\n",
       "      <th>...</th>\n",
       "      <td>...</td>\n",
       "      <td>...</td>\n",
       "      <td>...</td>\n",
       "      <td>...</td>\n",
       "      <td>...</td>\n",
       "      <td>...</td>\n",
       "      <td>...</td>\n",
       "      <td>...</td>\n",
       "      <td>...</td>\n",
       "      <td>...</td>\n",
       "      <td>...</td>\n",
       "      <td>...</td>\n",
       "      <td>...</td>\n",
       "    </tr>\n",
       "    <tr>\n",
       "      <th>198</th>\n",
       "      <td>62.0</td>\n",
       "      <td>0.0</td>\n",
       "      <td>61.0</td>\n",
       "      <td>1.0</td>\n",
       "      <td>38.0</td>\n",
       "      <td>1.0</td>\n",
       "      <td>155000.0</td>\n",
       "      <td>1.1</td>\n",
       "      <td>143.0</td>\n",
       "      <td>1.0</td>\n",
       "      <td>1.0</td>\n",
       "      <td>270.0</td>\n",
       "      <td>0.0</td>\n",
       "    </tr>\n",
       "    <tr>\n",
       "      <th>199</th>\n",
       "      <td>55.0</td>\n",
       "      <td>0.0</td>\n",
       "      <td>1820.0</td>\n",
       "      <td>0.0</td>\n",
       "      <td>38.0</td>\n",
       "      <td>0.0</td>\n",
       "      <td>270000.0</td>\n",
       "      <td>1.2</td>\n",
       "      <td>139.0</td>\n",
       "      <td>0.0</td>\n",
       "      <td>0.0</td>\n",
       "      <td>271.0</td>\n",
       "      <td>0.0</td>\n",
       "    </tr>\n",
       "    <tr>\n",
       "      <th>200</th>\n",
       "      <td>45.0</td>\n",
       "      <td>0.0</td>\n",
       "      <td>2060.0</td>\n",
       "      <td>1.0</td>\n",
       "      <td>60.0</td>\n",
       "      <td>0.0</td>\n",
       "      <td>742000.0</td>\n",
       "      <td>0.8</td>\n",
       "      <td>138.0</td>\n",
       "      <td>0.0</td>\n",
       "      <td>0.0</td>\n",
       "      <td>278.0</td>\n",
       "      <td>0.0</td>\n",
       "    </tr>\n",
       "    <tr>\n",
       "      <th>201</th>\n",
       "      <td>45.0</td>\n",
       "      <td>0.0</td>\n",
       "      <td>2413.0</td>\n",
       "      <td>0.0</td>\n",
       "      <td>38.0</td>\n",
       "      <td>0.0</td>\n",
       "      <td>140000.0</td>\n",
       "      <td>1.4</td>\n",
       "      <td>140.0</td>\n",
       "      <td>1.0</td>\n",
       "      <td>1.0</td>\n",
       "      <td>280.0</td>\n",
       "      <td>0.0</td>\n",
       "    </tr>\n",
       "    <tr>\n",
       "      <th>202</th>\n",
       "      <td>50.0</td>\n",
       "      <td>0.0</td>\n",
       "      <td>196.0</td>\n",
       "      <td>0.0</td>\n",
       "      <td>45.0</td>\n",
       "      <td>0.0</td>\n",
       "      <td>395000.0</td>\n",
       "      <td>1.6</td>\n",
       "      <td>136.0</td>\n",
       "      <td>1.0</td>\n",
       "      <td>1.0</td>\n",
       "      <td>285.0</td>\n",
       "      <td>0.0</td>\n",
       "    </tr>\n",
       "  </tbody>\n",
       "</table>\n",
       "<p>203 rows × 13 columns</p>\n",
       "</div>"
      ],
      "text/plain": [
       "      age  anaemia  creatinine_phosphokinase  diabetes  ejection_fraction  \\\n",
       "0    49.0      1.0                      80.0       0.0               30.0   \n",
       "1    65.0      1.0                      52.0       0.0               25.0   \n",
       "2    53.0      0.0                      63.0       1.0               60.0   \n",
       "3    50.0      1.0                     159.0       1.0               30.0   \n",
       "4    60.0      0.0                    2656.0       1.0               30.0   \n",
       "..    ...      ...                       ...       ...                ...   \n",
       "198  62.0      0.0                      61.0       1.0               38.0   \n",
       "199  55.0      0.0                    1820.0       0.0               38.0   \n",
       "200  45.0      0.0                    2060.0       1.0               60.0   \n",
       "201  45.0      0.0                    2413.0       0.0               38.0   \n",
       "202  50.0      0.0                     196.0       0.0               45.0   \n",
       "\n",
       "     high_blood_pressure  platelets  serum_creatinine  serum_sodium  sex  \\\n",
       "0                    1.0   427000.0               1.0         138.0  0.0   \n",
       "1                    1.0   276000.0               1.3         137.0  0.0   \n",
       "2                    0.0   368000.0               0.8         135.0  1.0   \n",
       "3                    0.0   302000.0               1.2         138.0  0.0   \n",
       "4                    0.0   305000.0               2.3         137.0  1.0   \n",
       "..                   ...        ...               ...           ...  ...   \n",
       "198                  1.0   155000.0               1.1         143.0  1.0   \n",
       "199                  0.0   270000.0               1.2         139.0  0.0   \n",
       "200                  0.0   742000.0               0.8         138.0  0.0   \n",
       "201                  0.0   140000.0               1.4         140.0  1.0   \n",
       "202                  0.0   395000.0               1.6         136.0  1.0   \n",
       "\n",
       "     smoking   time  DEATH_EVENT  \n",
       "0        0.0   12.0          0.0  \n",
       "1        0.0   16.0          0.0  \n",
       "2        0.0   22.0          0.0  \n",
       "3        0.0   29.0          0.0  \n",
       "4        0.0   30.0          0.0  \n",
       "..       ...    ...          ...  \n",
       "198      1.0  270.0          0.0  \n",
       "199      0.0  271.0          0.0  \n",
       "200      0.0  278.0          0.0  \n",
       "201      1.0  280.0          0.0  \n",
       "202      1.0  285.0          0.0  \n",
       "\n",
       "[203 rows x 13 columns]"
      ]
     },
     "execution_count": 17,
     "metadata": {},
     "output_type": "execute_result"
    }
   ],
   "source": [
    "alive_data"
   ]
  },
  {
   "cell_type": "code",
   "execution_count": 18,
   "id": "81bb1f98",
   "metadata": {},
   "outputs": [],
   "source": [
    "# Under sampling data\n",
    "\n",
    "from imblearn.over_sampling import RandomOverSampler\n",
    "from imblearn.under_sampling import RandomUnderSampler\n"
   ]
  },
  {
   "cell_type": "code",
   "execution_count": 21,
   "id": "0edad3d1",
   "metadata": {},
   "outputs": [],
   "source": [
    "from sklearn.datasets import make_classification\n",
    "X, y = make_classification(n_classes=2, class_sep=0.5,\n",
    "weights=[0.05, 0.95], n_informative=2, n_redundant=0, flip_y=0,\n",
    "n_features=2, n_clusters_per_class=1, n_samples=1000, random_state=10)"
   ]
  },
  {
   "cell_type": "code",
   "execution_count": 22,
   "id": "70a85ba1",
   "metadata": {},
   "outputs": [],
   "source": [
    "from imblearn.over_sampling import SMOTE\n",
    "sm = SMOTE(random_state=11)\n",
    "X_res, y_res = sm.fit_resample(x_train_scaled, y_train)"
   ]
  },
  {
   "cell_type": "code",
   "execution_count": 23,
   "id": "2410e0cf",
   "metadata": {},
   "outputs": [
    {
     "name": "stdout",
     "output_type": "stream",
     "text": [
      "dead :  137\n",
      "alive :  137\n"
     ]
    }
   ],
   "source": [
    "a = 0\n",
    "b = 0\n",
    "\n",
    "for i in y_res:\n",
    "    if i==0:\n",
    "        a=a+1\n",
    "    else:\n",
    "        b=b+1\n",
    "print(\"dead :  \" + str(b))\n",
    "print(\"alive :  \" +str(a))"
   ]
  },
  {
   "cell_type": "code",
   "execution_count": 24,
   "id": "30e3159b",
   "metadata": {},
   "outputs": [
    {
     "name": "stdout",
     "output_type": "stream",
     "text": [
      "Logistic Regression Model accuracy 84.44%\n",
      "SVM Model accuracy 86.67%\n",
      "KNNs Model accuracy 81.11%\n",
      "Decision Tree Model accuracy 75.56%\n",
      "Naive Bayes Model accuracy 84.44%\n",
      "Random Forrest Model accuracy 86.67%\n"
     ]
    },
    {
     "data": {
      "image/png": "[encoded data removed]",
      "text/plain": [
       "<Figure size 864x576 with 1 Axes>"
      ]
     },
     "metadata": {
      "needs_background": "light"
     },
     "output_type": "display_data"
    }
   ],
   "source": [
    "# With SMOTE\n",
    "import seaborn as sns\n",
    "accuracies_smote = [Logistic_Regression(X_res, y_res),SVM(X_res, y_res),KNNs(X_res, y_res),Decision_Tree(X_res, y_res),Naive_Bayes(X_res, y_res),Random_Forrest(X_res, y_res)]\n",
    "models_smote = [\"Logistic Regression\",\"SVM\",\"KNNs\",\"Decision Tree\",\"Naive Bayes\",\"Random Forest\"]\n",
    "\n",
    "\n",
    "    \n",
    "accuracies_plot(models_smote,accuracies_smote, \"with SMOTE\")"
   ]
  },
  {
   "cell_type": "code",
   "execution_count": 25,
   "id": "cf516e7a",
   "metadata": {},
   "outputs": [
    {
     "name": "stdout",
     "output_type": "stream",
     "text": [
      "Logistic Regression difference in accuracy:  -3.34%\n",
      "SVM difference in accuracy:  2.23%\n",
      "KNNs difference in accuracy:  -3.33%\n",
      "Decision Tree difference in accuracy:  -13.33%\n",
      "Naive Bayes difference in accuracy:  2.22%\n",
      "Random Forest difference in accuracy:  0.0%\n"
     ]
    },
    {
     "data": {
      "text/plain": [
       "[None, None, None, None, None, None]"
      ]
     },
     "execution_count": 25,
     "metadata": {},
     "output_type": "execute_result"
    }
   ],
   "source": [
    "[print(models_smote[i]+\" difference in accuracy:  \"+str(round(accuracies_smote[i]-accuracies[i],2))+\"%\") for i in range(len(accuracies_smote))]"
   ]
  },
  {
   "cell_type": "code",
   "execution_count": 34,
   "id": "14e09f23",
   "metadata": {},
   "outputs": [],
   "source": [
    "import random as rd\n",
    "def under_sampling(data):\n",
    "    dead_data, alive_data = split_data(data)\n",
    "    random_samples=[]\n",
    "    for i in range(len(dead_data)):\n",
    "        randy =  rd.randrange(len(alive_data))\n",
    "        while randy in random_samples:\n",
    "            randy =  rd.randrange(len(alive_data))\n",
    "        random_samples.append(randy)\n",
    "    return pd.concat([alive_data.loc[random_samples,:],dead_data ]).reset_index()\n",
    "        \n",
    "def over_sampling(data):\n",
    "    dead_data, alive_data = split_data(data)\n",
    "    random_samples=[]\n",
    "    for i in range(len(alive_data)):\n",
    "        randy =  rd.randrange(len(dead_data))\n",
    "        while random_samples.count(randy)>3:\n",
    "            randy =  rd.randrange(len(dead_data))\n",
    "        random_samples.append(randy)\n",
    "    return pd.concat([dead_data.loc[random_samples,:],alive_data ]).reset_index()\n",
    "        "
   ]
  },
  {
   "cell_type": "code",
   "execution_count": 38,
   "id": "089dc4ab",
   "metadata": {},
   "outputs": [
    {
     "name": "stdout",
     "output_type": "stream",
     "text": [
      "undersampled data size:   192\n",
      "oversampled data size:   406\n"
     ]
    }
   ],
   "source": [
    "US_data = under_sampling(data)\n",
    "OS_data = over_sampling(data)\n",
    "print(\"undersampled data size:  \" , len(US_data))\n",
    "print(\"oversampled data size:  \" , len(OS_data))"
   ]
  },
  {
   "cell_type": "code",
   "execution_count": 39,
   "id": "184941cc",
   "metadata": {},
   "outputs": [],
   "source": [
    "x = US_data[[\"age\",\"creatinine_phosphokinase\",\"ejection_fraction\",\"serum_creatinine\",\"serum_sodium\",\"time\"]]\n",
    "y = US_data[\"DEATH_EVENT\"]\n",
    "\n",
    "x_train, x_test, y_train, y_test = train_test_split(x, y, test_size=0.3, random_state=2)\n",
    "# Data scaling\n",
    "scaler = StandardScaler()\n",
    "x_train_scaled = scaler.fit_transform(x_train)\n",
    "x_test_scaled = scaler.transform(x_test)"
   ]
  },
  {
   "cell_type": "code",
   "execution_count": 40,
   "id": "eb088c9b",
   "metadata": {},
   "outputs": [
    {
     "name": "stdout",
     "output_type": "stream",
     "text": [
      "Logistic Regression Model accuracy 84.48%\n",
      "SVM Model accuracy 89.66%\n",
      "KNNs Model accuracy 77.59%\n",
      "Decision Tree Model accuracy 84.48%\n",
      "Naive Bayes Model accuracy 82.76%\n",
      "Random Forrest Model accuracy 89.66%\n"
     ]
    },
    {
     "data": {
      "image/png": "[encoded data removed]",
      "text/plain": [
       "<Figure size 864x576 with 1 Axes>"
      ]
     },
     "metadata": {
      "needs_background": "light"
     },
     "output_type": "display_data"
    }
   ],
   "source": [
    "# With Undersampling\n",
    "import seaborn as sns\n",
    "accuracies_under_sampling = [Logistic_Regression(x_train_scaled, y_train),SVM(x_train_scaled, y_train),KNNs(x_train_scaled, y_train),Decision_Tree(x_train_scaled, y_train),Naive_Bayes(x_train_scaled, y_train),Random_Forrest(x_train_scaled, y_train)]\n",
    "models_under_sampling = [\"Logistic Regression\",\"SVM\",\"KNNs\",\"Decision Tree\",\"Naive Bayes\",\"Random Forest\"]\n",
    "\n",
    "    \n",
    "accuracies_plot(models_under_sampling, accuracies_under_sampling, \"with Under-Sampling\")"
   ]
  },
  {
   "cell_type": "code",
   "execution_count": 41,
   "id": "5cb35b38",
   "metadata": {},
   "outputs": [
    {
     "name": "stdout",
     "output_type": "stream",
     "text": [
      "Logistic Regression difference in accuracy:  -3.3%\n",
      "SVM difference in accuracy:  5.22%\n",
      "KNNs difference in accuracy:  -6.85%\n",
      "Decision Tree difference in accuracy:  -4.41%\n",
      "Naive Bayes difference in accuracy:  0.54%\n",
      "Random Forest difference in accuracy:  2.99%\n"
     ]
    },
    {
     "data": {
      "text/plain": [
       "[None, None, None, None, None, None]"
      ]
     },
     "execution_count": 41,
     "metadata": {},
     "output_type": "execute_result"
    }
   ],
   "source": [
    "[print(models_smote[i]+\" difference in accuracy:  \"+str(round(accuracies_under_sampling[i]-accuracies[i],4))+\"%\") for i in range(len(accuracies_smote))]"
   ]
  },
  {
   "cell_type": "code",
   "execution_count": null,
   "id": "d9784a76",
   "metadata": {},
   "outputs": [],
   "source": []
  },
  {
   "cell_type": "code",
   "execution_count": null,
   "id": "a71aa9f7",
   "metadata": {},
   "outputs": [],
   "source": []
  },
  {
   "cell_type": "code",
   "execution_count": 31,
   "id": "71e621b8",
   "metadata": {},
   "outputs": [],
   "source": [
    "x_OS = OS_data[[\"age\",\"creatinine_phosphokinase\",\"ejection_fraction\",\"serum_creatinine\",\"serum_sodium\",\"time\"]]\n",
    "y_OS = OS_data[\"DEATH_EVENT\"]\n",
    "\n",
    "x_train_OS, x_test_OS, y_train_OS, y_test_OS = train_test_split(x_OS, y_OS, test_size=0.3, random_state=2)\n",
    "# Data scaling\n",
    "scaler = StandardScaler()\n",
    "x_OS_train_scaled = scaler.fit_transform(x_train_OS)\n",
    "x_OS_test_scaled = scaler.transform(x_test_OS)"
   ]
  },
  {
   "cell_type": "code",
   "execution_count": 32,
   "id": "50cee9e1",
   "metadata": {},
   "outputs": [
    {
     "name": "stdout",
     "output_type": "stream",
     "text": [
      "Logistic Regression Model accuracy 82.76%\n",
      "SVM Model accuracy 87.92999999999999%\n",
      "KNNs Model accuracy 89.66%\n",
      "Decision Tree Model accuracy 75.86%\n",
      "Naive Bayes Model accuracy 82.76%\n",
      "Random Forrest Model accuracy 93.10000000000001%\n"
     ]
    },
    {
     "data": {
      "image/png": "[encoded data removed]",
      "text/plain": [
       "<Figure size 864x576 with 1 Axes>"
      ]
     },
     "metadata": {
      "needs_background": "light"
     },
     "output_type": "display_data"
    }
   ],
   "source": [
    "# With Oversampling\n",
    "import seaborn as sns\n",
    "accuracies_over_sampling = [Logistic_Regression(x_OS_train_scaled, y_train_OS),\n",
    "                            SVM(x_OS_train_scaled, y_train_OS),\n",
    "                            KNNs(x_OS_train_scaled, y_train_OS),\n",
    "                            Decision_Tree(x_OS_train_scaled, y_train_OS),\n",
    "                            Naive_Bayes(x_OS_train_scaled, y_train_OS),\n",
    "                            Random_Forrest(x_OS_train_scaled, y_train_OS)]\n",
    "models_over_sampling = [\"Logistic Regression\",\"SVM\",\"KNNs\",\"Decision Tree\",\"Naive Bayes\",\"Random Forest\"]\n",
    "\n",
    "    \n",
    "accuracies_plot(models_over_sampling , accuracies_over_sampling, \"with Over-Sampling\")"
   ]
  },
  {
   "cell_type": "code",
   "execution_count": 33,
   "id": "ac62b12a",
   "metadata": {},
   "outputs": [
    {
     "name": "stdout",
     "output_type": "stream",
     "text": [
      "Logistic Regression difference in accuracy:  -5.02%\n",
      "SVM difference in accuracy:  3.49%\n",
      "KNNs difference in accuracy:  5.22%\n",
      "Decision Tree difference in accuracy:  -13.03%\n",
      "Naive Bayes difference in accuracy:  0.54%\n",
      "Random Forest difference in accuracy:  6.43%\n"
     ]
    },
    {
     "data": {
      "text/plain": [
       "[None, None, None, None, None, None]"
      ]
     },
     "execution_count": 33,
     "metadata": {},
     "output_type": "execute_result"
    }
   ],
   "source": [
    "[print(models_smote[i]+\" difference in accuracy:  \"+str(round(accuracies_over_sampling[i]-accuracies[i],4))+\"%\") for i in range(len(accuracies_smote))]"
   ]
  },
  {
   "cell_type": "code",
   "execution_count": null,
   "id": "906860bb",
   "metadata": {},
   "outputs": [],
   "source": []
  },
  {
   "cell_type": "code",
   "execution_count": null,
   "id": "6b3ac900",
   "metadata": {},
   "outputs": [],
   "source": []
  },
  {
   "cell_type": "code",
   "execution_count": null,
   "id": "2d4e9da7",
   "metadata": {},
   "outputs": [],
   "source": []
  }
 ],
 "metadata": {
  "kernelspec": {
   "display_name": "Python 3 (ipykernel)",
   "language": "python",
   "name": "python3"
  },
  "language_info": {
   "codemirror_mode": {
    "name": "ipython",
    "version": 3
   },
   "file_extension": ".py",
   "mimetype": "text/x-python",
   "name": "python",
   "nbconvert_exporter": "python",
   "pygments_lexer": "ipython3",
   "version": "3.9.7"
  }
 },
 "nbformat": 4,
 "nbformat_minor": 5
}
